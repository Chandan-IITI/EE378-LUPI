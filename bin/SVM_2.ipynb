{
 "cells": [
  {
   "cell_type": "code",
   "execution_count": 2,
   "metadata": {
    "collapsed": true
   },
   "outputs": [],
   "source": [
    "%matplotlib inline\n",
    "import svmpy\n",
    "import logging\n",
    "import numpy as np\n",
    "import matplotlib.pyplot as plt\n",
    "import matplotlib.cm as cm\n",
    "import itertools"
   ]
  },
  {
   "cell_type": "code",
   "execution_count": 1,
   "metadata": {
    "collapsed": true
   },
   "outputs": [],
   "source": [
    "import numpy as np\n",
    "import urllib\n",
    "# url with dataset\n",
    "url = \"http://archive.ics.uci.edu/ml/machine-learning-databases/pima-indians-diabetes/pima-indians-diabetes.data\"\n",
    "# download the file\n",
    "raw_data = urllib.urlopen(url)\n",
    "# load the CSV file as a numpy matrix\n",
    "dataset = np.loadtxt(raw_data, delimiter=\",\")\n",
    "# separate the data from the target attributes\n",
    "X = dataset[:,0:8]\n",
    "y = dataset[:,8]"
   ]
  },
  {
   "cell_type": "code",
   "execution_count": 3,
   "metadata": {
    "collapsed": false
   },
   "outputs": [
    {
     "name": "stdout",
     "output_type": "stream",
     "text": [
      "     pcost       dcost       gap    pres   dres\n",
      " 0: -2.6749e+02 -2.0080e+02  8e+03  3e+01  3e-10\n",
      " 1: -4.4062e+01 -1.9146e+02  5e+02  1e+00  3e-10\n",
      " 2: -3.2528e+01 -1.1423e+02  1e+02  2e-01  4e-11\n",
      " 3: -3.4438e+01 -4.7852e+01  1e+01  2e-02  3e-11\n",
      " 4: -3.8167e+01 -4.1842e+01  4e+00  4e-03  3e-11\n",
      " 5: -3.9174e+01 -4.0484e+01  1e+00  1e-03  3e-11\n",
      " 6: -3.9543e+01 -3.9981e+01  5e-01  3e-04  3e-11\n",
      " 7: -3.9675e+01 -3.9809e+01  1e-01  5e-05  3e-11\n",
      " 8: -3.9713e+01 -3.9762e+01  5e-02  1e-05  4e-11\n",
      " 9: -3.9731e+01 -3.9742e+01  1e-02  3e-06  3e-11\n",
      "10: -3.9736e+01 -3.9737e+01  9e-04  1e-07  3e-11\n",
      "11: -3.9736e+01 -3.9736e+01  2e-04  1e-08  4e-11\n",
      "12: -3.9736e+01 -3.9736e+01  2e-06  2e-10  4e-11\n",
      "Optimal solution found.\n",
      "Training Done\n"
     ]
    }
   ],
   "source": [
    "samples = X;\n",
    "labels = 2*y - 1;\n",
    "trainer = svmpy.SVMTrainer(svmpy.Kernel.linear(), 0.1)\n",
    "predictor = trainer.train(samples, labels)\n",
    "print \"Training Done\""
   ]
  },
  {
   "cell_type": "code",
   "execution_count": 7,
   "metadata": {
    "collapsed": false
   },
   "outputs": [
    {
     "ename": "TypeError",
     "evalue": "'SVMPredictor' object has no attribute '__getitem__'",
     "output_type": "error",
     "traceback": [
      "\u001b[1;31m---------------------------------------------------------------------------\u001b[0m",
      "\u001b[1;31mTypeError\u001b[0m                                 Traceback (most recent call last)",
      "\u001b[1;32m<ipython-input-7-446343e39c2f>\u001b[0m in \u001b[0;36m<module>\u001b[1;34m()\u001b[0m\n\u001b[1;32m----> 1\u001b[1;33m \u001b[0mpredictor\u001b[0m\u001b[1;33m[\u001b[0m\u001b[1;34m'weights'\u001b[0m\u001b[1;33m]\u001b[0m\u001b[1;33m\u001b[0m\u001b[0m\n\u001b[0m",
      "\u001b[1;31mTypeError\u001b[0m: 'SVMPredictor' object has no attribute '__getitem__'"
     ]
    }
   ],
   "source": [
    "predictor['weights']"
   ]
  },
  {
   "cell_type": "code",
   "execution_count": null,
   "metadata": {
    "collapsed": true
   },
   "outputs": [],
   "source": []
  }
 ],
 "metadata": {
  "kernelspec": {
   "display_name": "Python 2",
   "language": "python",
   "name": "python2"
  },
  "language_info": {
   "codemirror_mode": {
    "name": "ipython",
    "version": 2
   },
   "file_extension": ".py",
   "mimetype": "text/x-python",
   "name": "python",
   "nbconvert_exporter": "python",
   "pygments_lexer": "ipython2",
   "version": "2.7.11"
  }
 },
 "nbformat": 4,
 "nbformat_minor": 0
}
